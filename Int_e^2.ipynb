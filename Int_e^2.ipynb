{
  "nbformat": 4,
  "nbformat_minor": 0,
  "metadata": {
    "colab": {
      "provenance": [],
      "authorship_tag": "ABX9TyOGTxiFqCjH24dzy4dAk3pi",
      "include_colab_link": true
    },
    "kernelspec": {
      "name": "python3",
      "display_name": "Python 3"
    },
    "language_info": {
      "name": "python"
    }
  },
  "cells": [
    {
      "cell_type": "markdown",
      "metadata": {
        "id": "view-in-github",
        "colab_type": "text"
      },
      "source": [
        "<a href=\"https://colab.research.google.com/github/Ramajuan/Test-01/blob/main/Int_e%5E2.ipynb\" target=\"_parent\"><img src=\"https://colab.research.google.com/assets/colab-badge.svg\" alt=\"Open In Colab\"/></a>"
      ]
    },
    {
      "cell_type": "code",
      "execution_count": null,
      "metadata": {
        "id": "0VoRn9aoRpz0",
        "colab": {
          "base_uri": "https://localhost:8080/"
        },
        "outputId": "2a43ac52-c7b1-42df-d3e0-9f39f13db752"
      },
      "outputs": [
        {
          "output_type": "execute_result",
          "data": {
            "text/plain": [
              "0.3829249225480262"
            ]
          },
          "metadata": {},
          "execution_count": 2
        }
      ],
      "source": [
        "import math as mt\n",
        "n=171\n",
        "def f(x):\n",
        "  a=0\n",
        "  sum=0\n",
        "  for i in range(n):\n",
        "    a=((-1)**i)*x**(2*i+1)/((2**i)*(2*i+1)*mt.gamma(i+1))\n",
        "    sum=sum+a\n",
        "  return sum\n",
        "(f(0.5)-f(-0.5))/mt.sqrt(2*mt.pi)"
      ]
    },
    {
      "cell_type": "code",
      "source": [],
      "metadata": {
        "id": "CjqzLwHbfDPN"
      },
      "execution_count": null,
      "outputs": []
    }
  ]
}